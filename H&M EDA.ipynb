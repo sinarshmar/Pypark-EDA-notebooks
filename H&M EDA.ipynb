{
 "cells": [
  {
   "cell_type": "markdown",
   "id": "a3f034b9",
   "metadata": {},
   "source": [
    "Inspired from this Kaggle notebook:\n",
    "https://www.kaggle.com/code/kaerunantoka/h-m-eda-w-pyspark/notebook"
   ]
  },
  {
   "cell_type": "code",
   "execution_count": 1,
   "id": "9784a1ae",
   "metadata": {},
   "outputs": [],
   "source": [
    "## importing Python libraries\n",
    "\n",
    "import numpy as np ##linear algebra\n",
    "import pandas as pd ## data processing\n"
   ]
  },
  {
   "cell_type": "code",
   "execution_count": 2,
   "id": "41aa3dbd",
   "metadata": {},
   "outputs": [],
   "source": [
    "## Starting spark session\n",
    "\n",
    "import pyspark\n",
    "from pyspark.sql import SparkSession\n",
    "\n",
    "spark = SparkSession.builder.config(\"spark.driver.memory\", \"15g\").appName(\"EDA_spark\").getOrCreate()"
   ]
  },
  {
   "cell_type": "markdown",
   "id": "72e4d369",
   "metadata": {},
   "source": [
    "## Read Data"
   ]
  },
  {
   "cell_type": "code",
   "execution_count": 3,
   "id": "2c9e6dc7",
   "metadata": {},
   "outputs": [],
   "source": [
    "train = spark.read.option('header','true').csv(\"E:\\\\New journey\\\\Datasets\\\\HM\\\\transactions_train.csv\")\n",
    "article = spark.read.option('header','true').csv(\"E:\\\\New journey\\\\Datasets\\\\HM\\\\articles.csv\")\n",
    "customer = spark.read.option('header','true').csv(\"E:\\\\New journey\\\\Datasets\\\\HM\\\\customers.csv\")\n",
    "\n"
   ]
  },
  {
   "cell_type": "markdown",
   "id": "814a8de8",
   "metadata": {},
   "source": [
    "## Creating tables"
   ]
  },
  {
   "cell_type": "code",
   "execution_count": 4,
   "id": "128725b4",
   "metadata": {},
   "outputs": [],
   "source": [
    "train.createOrReplaceTempView(\"transactions_train\")\n",
    "article.createOrReplaceTempView(\"article\")\n",
    "customer.createOrReplaceTempView(\"customer\")"
   ]
  },
  {
   "cell_type": "markdown",
   "id": "95f67385",
   "metadata": {},
   "source": [
    "## EDA with spark SQL"
   ]
  },
  {
   "cell_type": "code",
   "execution_count": 5,
   "id": "80497cf4",
   "metadata": {},
   "outputs": [],
   "source": [
    "#taking a sample of 100\n",
    "sample = spark.sql(\"select * from transactions_train limit 100\")"
   ]
  },
  {
   "cell_type": "code",
   "execution_count": 6,
   "id": "c9649c7f",
   "metadata": {},
   "outputs": [
    {
     "data": {
      "text/plain": [
       "['t_dat', 'customer_id', 'article_id', 'price', 'sales_channel_id']"
      ]
     },
     "execution_count": 6,
     "metadata": {},
     "output_type": "execute_result"
    }
   ],
   "source": [
    "train.columns"
   ]
  },
  {
   "cell_type": "code",
   "execution_count": 7,
   "id": "66edd966",
   "metadata": {
    "scrolled": false
   },
   "outputs": [],
   "source": [
    "# Getting details on customer lists.\n",
    "grouped= spark.sql('''          \n",
    "                   select \n",
    "                       customer_id,\n",
    "                       collect_list(article_id),\n",
    "                       avg(price) as avg_price,\n",
    "                       max(price) as max_price,\n",
    "                       min(price) as min_price\n",
    "                   \n",
    "                   from transactions_train\n",
    "                   group by customer_id\n",
    "                   limit 100\n",
    "                   \n",
    "                   ''')\n"
   ]
  },
  {
   "cell_type": "code",
   "execution_count": 21,
   "id": "3ef80cf0",
   "metadata": {},
   "outputs": [
    {
     "name": "stdout",
     "output_type": "stream",
     "text": [
      "+--------------------+------------------------+--------------------+--------------------+--------------------+\n",
      "|         customer_id|collect_list(article_id)|           avg_price|           max_price|           min_price|\n",
      "+--------------------+------------------------+--------------------+--------------------+--------------------+\n",
      "|000346516dd355b40...|    [0534210011, 0666...| 0.02284322033898305|0.033881355932203386| 0.00676271186440678|\n",
      "|0003e56a4332b2503...|            [0682520002]|0.024389830508474576|0.024389830508474576|0.024389830508474576|\n",
      "|0011a72ff27917972...|    [0779059003, 0624...|0.037271186440677964| 0.08472881355932205|0.008457627118644067|\n",
      "|0022058e10f379f15...|    [0846581002, 0846...|0.042355932203389825|0.042355932203389825|0.042355932203389825|\n",
      "|0028449d82fdf6771...|    [0649437002, 0649...|0.033881355932203386|0.033881355932203386|0.033881355932203386|\n",
      "|0037dbd391c8b1535...|    [0562480004, 0678...|0.035455205811138014|0.050830508474576264|0.025406779661016947|\n",
      "|00387918f3d005323...|            [0325087044]|0.025406779661016947|0.025406779661016947|0.025406779661016947|\n",
      "|0038bf2b66fdc1de4...|    [0591334003, 0627...| 0.02071954449152542|0.050830508474576264|0.005067796610169492|\n",
      "|003a91c7ac71487cf...|    [0791571001, 0783...| 0.06293704600484261| 0.08472881355932205|0.050830508474576264|\n",
      "|004432f08708cc499...|    [0832362003, 0876...|0.038669491525423726| 0.08472881355932205|0.011847457627118646|\n",
      "|004d7b2d16b8dae54...|    [0717205001, 0608...|0.028656779661016946| 0.05422033898305084|0.011847457627118646|\n",
      "|0054817f9f7b68c50...|    [0897655001, 0599...| 0.03938983050847457| 0.05930508474576271| 0.03049152542372881|\n",
      "|005ddabf9bc77f963...|    [0635561001, 0674...|0.032659761456371623| 0.12584745762711863|0.008457627118644067|\n",
      "|006ae0656ded2215d...|    [0539723001, 0448...|0.022680913780397934| 0.06777966101694916|0.001677966101694915|\n",
      "|007ebdd8e50f1b32f...|    [0625939021, 0546...|0.026123859191655798|0.053372881355932204|0.008457627118644067|\n",
      "|008588b203fab392d...|    [0832361007, 0610...| 0.01269774011299435|0.015254237288135594|0.007610169491525424|\n",
      "|0086f22a4967559a6...|    [0618319006, 0673...|0.020467312348668283|0.050830508474576264|0.005067796610169492|\n",
      "|008e204fafb8f8c9c...|    [0661162001, 0678...| 0.02164406779661017|0.033881355932203386| 0.00811864406779661|\n",
      "|008e34462000adda6...|    [0864040001, 0864...| 0.03003954802259887|0.042355932203389825|0.019813559322033897|\n",
      "|008e907334dd02090...|    [0673799003, 0312...|0.052949152542372875| 0.11862711864406779|0.016932203389830508|\n",
      "+--------------------+------------------------+--------------------+--------------------+--------------------+\n",
      "only showing top 20 rows\n",
      "\n"
     ]
    }
   ],
   "source": [
    "grouped.show()"
   ]
  },
  {
   "cell_type": "code",
   "execution_count": 19,
   "id": "e3dac816",
   "metadata": {},
   "outputs": [
    {
     "data": {
      "text/plain": [
       "(100, 5)"
      ]
     },
     "execution_count": 19,
     "metadata": {},
     "output_type": "execute_result"
    }
   ],
   "source": [
    "# Changing to pandas dataframe.\n",
    "df_grouped = grouped.toPandas()\n",
    "df_grouped.shape"
   ]
  },
  {
   "cell_type": "code",
   "execution_count": 22,
   "id": "f60fe65a",
   "metadata": {},
   "outputs": [],
   "source": [
    "## merging the dataframes\n",
    "\n",
    "merged= spark.sql('''\n",
    "    select * from transactions_train as tt\n",
    "    left join customer as cs on cs.customer_id = tt.customer_id\n",
    "    left join article as ar on ar.article_id = tt.article_id    \n",
    "    limit 100\n",
    "\n",
    "''')"
   ]
  },
  {
   "cell_type": "code",
   "execution_count": 24,
   "id": "028fdd07",
   "metadata": {},
   "outputs": [
    {
     "name": "stdout",
     "output_type": "stream",
     "text": [
      "100\n",
      "['t_dat', 'customer_id', 'article_id', 'price', 'sales_channel_id', 'customer_id', 'FN', 'Active', 'club_member_status', 'fashion_news_frequency', 'age', 'postal_code', 'article_id', 'product_code', 'prod_name', 'product_type_no', 'product_type_name', 'product_group_name', 'graphical_appearance_no', 'graphical_appearance_name', 'colour_group_code', 'colour_group_name', 'perceived_colour_value_id', 'perceived_colour_value_name', 'perceived_colour_master_id', 'perceived_colour_master_name', 'department_no', 'department_name', 'index_code', 'index_name', 'index_group_no', 'index_group_name', 'section_no', 'section_name', 'garment_group_no', 'garment_group_name', 'detail_desc']\n"
     ]
    },
    {
     "data": {
      "text/html": [
       "<div>\n",
       "<style scoped>\n",
       "    .dataframe tbody tr th:only-of-type {\n",
       "        vertical-align: middle;\n",
       "    }\n",
       "\n",
       "    .dataframe tbody tr th {\n",
       "        vertical-align: top;\n",
       "    }\n",
       "\n",
       "    .dataframe thead th {\n",
       "        text-align: right;\n",
       "    }\n",
       "</style>\n",
       "<table border=\"1\" class=\"dataframe\">\n",
       "  <thead>\n",
       "    <tr style=\"text-align: right;\">\n",
       "      <th></th>\n",
       "      <th>t_dat</th>\n",
       "      <th>customer_id</th>\n",
       "      <th>article_id</th>\n",
       "      <th>price</th>\n",
       "      <th>sales_channel_id</th>\n",
       "      <th>customer_id</th>\n",
       "      <th>FN</th>\n",
       "      <th>Active</th>\n",
       "      <th>club_member_status</th>\n",
       "      <th>fashion_news_frequency</th>\n",
       "      <th>...</th>\n",
       "      <th>department_name</th>\n",
       "      <th>index_code</th>\n",
       "      <th>index_name</th>\n",
       "      <th>index_group_no</th>\n",
       "      <th>index_group_name</th>\n",
       "      <th>section_no</th>\n",
       "      <th>section_name</th>\n",
       "      <th>garment_group_no</th>\n",
       "      <th>garment_group_name</th>\n",
       "      <th>detail_desc</th>\n",
       "    </tr>\n",
       "  </thead>\n",
       "  <tbody>\n",
       "    <tr>\n",
       "      <th>0</th>\n",
       "      <td>2018-11-14</td>\n",
       "      <td>1d355b0da25ff322f71d881e67f49e036c467a08914c66...</td>\n",
       "      <td>0511783004</td>\n",
       "      <td>0.02159322033898305</td>\n",
       "      <td>1</td>\n",
       "      <td>1d355b0da25ff322f71d881e67f49e036c467a08914c66...</td>\n",
       "      <td>1.0</td>\n",
       "      <td>1.0</td>\n",
       "      <td>ACTIVE</td>\n",
       "      <td>Regularly</td>\n",
       "      <td>...</td>\n",
       "      <td>None</td>\n",
       "      <td>None</td>\n",
       "      <td>None</td>\n",
       "      <td>None</td>\n",
       "      <td>None</td>\n",
       "      <td>None</td>\n",
       "      <td>None</td>\n",
       "      <td>None</td>\n",
       "      <td>None</td>\n",
       "      <td>None</td>\n",
       "    </tr>\n",
       "    <tr>\n",
       "      <th>1</th>\n",
       "      <td>2020-03-09</td>\n",
       "      <td>a0a542fc53c40b31ab6ca915a21f25c0388cb5b7b593fa...</td>\n",
       "      <td>0523490002</td>\n",
       "      <td>0.005067796610169492</td>\n",
       "      <td>1</td>\n",
       "      <td>a0a542fc53c40b31ab6ca915a21f25c0388cb5b7b593fa...</td>\n",
       "      <td>None</td>\n",
       "      <td>None</td>\n",
       "      <td>ACTIVE</td>\n",
       "      <td>NONE</td>\n",
       "      <td>...</td>\n",
       "      <td>None</td>\n",
       "      <td>None</td>\n",
       "      <td>None</td>\n",
       "      <td>None</td>\n",
       "      <td>None</td>\n",
       "      <td>None</td>\n",
       "      <td>None</td>\n",
       "      <td>None</td>\n",
       "      <td>None</td>\n",
       "      <td>None</td>\n",
       "    </tr>\n",
       "    <tr>\n",
       "      <th>2</th>\n",
       "      <td>2018-12-13</td>\n",
       "      <td>400aa157c34436031bad2cc4dbf7dc21f15e868f948f92...</td>\n",
       "      <td>0565379022</td>\n",
       "      <td>0.008457627118644067</td>\n",
       "      <td>1</td>\n",
       "      <td>400aa157c34436031bad2cc4dbf7dc21f15e868f948f92...</td>\n",
       "      <td>None</td>\n",
       "      <td>None</td>\n",
       "      <td>ACTIVE</td>\n",
       "      <td>NONE</td>\n",
       "      <td>...</td>\n",
       "      <td>None</td>\n",
       "      <td>None</td>\n",
       "      <td>None</td>\n",
       "      <td>None</td>\n",
       "      <td>None</td>\n",
       "      <td>None</td>\n",
       "      <td>None</td>\n",
       "      <td>None</td>\n",
       "      <td>None</td>\n",
       "      <td>None</td>\n",
       "    </tr>\n",
       "    <tr>\n",
       "      <th>3</th>\n",
       "      <td>2018-12-13</td>\n",
       "      <td>400aa157c34436031bad2cc4dbf7dc21f15e868f948f92...</td>\n",
       "      <td>0565379022</td>\n",
       "      <td>0.008457627118644067</td>\n",
       "      <td>1</td>\n",
       "      <td>400aa157c34436031bad2cc4dbf7dc21f15e868f948f92...</td>\n",
       "      <td>None</td>\n",
       "      <td>None</td>\n",
       "      <td>ACTIVE</td>\n",
       "      <td>NONE</td>\n",
       "      <td>...</td>\n",
       "      <td>None</td>\n",
       "      <td>None</td>\n",
       "      <td>None</td>\n",
       "      <td>None</td>\n",
       "      <td>None</td>\n",
       "      <td>None</td>\n",
       "      <td>None</td>\n",
       "      <td>None</td>\n",
       "      <td>None</td>\n",
       "      <td>None</td>\n",
       "    </tr>\n",
       "    <tr>\n",
       "      <th>4</th>\n",
       "      <td>2018-12-13</td>\n",
       "      <td>400aa157c34436031bad2cc4dbf7dc21f15e868f948f92...</td>\n",
       "      <td>0565379022</td>\n",
       "      <td>0.008457627118644067</td>\n",
       "      <td>1</td>\n",
       "      <td>400aa157c34436031bad2cc4dbf7dc21f15e868f948f92...</td>\n",
       "      <td>None</td>\n",
       "      <td>None</td>\n",
       "      <td>ACTIVE</td>\n",
       "      <td>NONE</td>\n",
       "      <td>...</td>\n",
       "      <td>None</td>\n",
       "      <td>None</td>\n",
       "      <td>None</td>\n",
       "      <td>None</td>\n",
       "      <td>None</td>\n",
       "      <td>None</td>\n",
       "      <td>None</td>\n",
       "      <td>None</td>\n",
       "      <td>None</td>\n",
       "      <td>None</td>\n",
       "    </tr>\n",
       "  </tbody>\n",
       "</table>\n",
       "<p>5 rows × 37 columns</p>\n",
       "</div>"
      ],
      "text/plain": [
       "        t_dat                                        customer_id  article_id  \\\n",
       "0  2018-11-14  1d355b0da25ff322f71d881e67f49e036c467a08914c66...  0511783004   \n",
       "1  2020-03-09  a0a542fc53c40b31ab6ca915a21f25c0388cb5b7b593fa...  0523490002   \n",
       "2  2018-12-13  400aa157c34436031bad2cc4dbf7dc21f15e868f948f92...  0565379022   \n",
       "3  2018-12-13  400aa157c34436031bad2cc4dbf7dc21f15e868f948f92...  0565379022   \n",
       "4  2018-12-13  400aa157c34436031bad2cc4dbf7dc21f15e868f948f92...  0565379022   \n",
       "\n",
       "                  price sales_channel_id  \\\n",
       "0   0.02159322033898305                1   \n",
       "1  0.005067796610169492                1   \n",
       "2  0.008457627118644067                1   \n",
       "3  0.008457627118644067                1   \n",
       "4  0.008457627118644067                1   \n",
       "\n",
       "                                         customer_id    FN Active  \\\n",
       "0  1d355b0da25ff322f71d881e67f49e036c467a08914c66...   1.0    1.0   \n",
       "1  a0a542fc53c40b31ab6ca915a21f25c0388cb5b7b593fa...  None   None   \n",
       "2  400aa157c34436031bad2cc4dbf7dc21f15e868f948f92...  None   None   \n",
       "3  400aa157c34436031bad2cc4dbf7dc21f15e868f948f92...  None   None   \n",
       "4  400aa157c34436031bad2cc4dbf7dc21f15e868f948f92...  None   None   \n",
       "\n",
       "  club_member_status fashion_news_frequency  ... department_name index_code  \\\n",
       "0             ACTIVE              Regularly  ...            None       None   \n",
       "1             ACTIVE                   NONE  ...            None       None   \n",
       "2             ACTIVE                   NONE  ...            None       None   \n",
       "3             ACTIVE                   NONE  ...            None       None   \n",
       "4             ACTIVE                   NONE  ...            None       None   \n",
       "\n",
       "  index_name index_group_no index_group_name section_no section_name  \\\n",
       "0       None           None             None       None         None   \n",
       "1       None           None             None       None         None   \n",
       "2       None           None             None       None         None   \n",
       "3       None           None             None       None         None   \n",
       "4       None           None             None       None         None   \n",
       "\n",
       "  garment_group_no garment_group_name detail_desc  \n",
       "0             None               None        None  \n",
       "1             None               None        None  \n",
       "2             None               None        None  \n",
       "3             None               None        None  \n",
       "4             None               None        None  \n",
       "\n",
       "[5 rows x 37 columns]"
      ]
     },
     "execution_count": 24,
     "metadata": {},
     "output_type": "execute_result"
    }
   ],
   "source": [
    "print(merged.count())\n",
    "print(merged.columns)\n",
    "\n",
    "df_merged= merged.toPandas()\n",
    "df_merged.head()"
   ]
  },
  {
   "cell_type": "code",
   "execution_count": null,
   "id": "30f68d2d",
   "metadata": {},
   "outputs": [],
   "source": []
  }
 ],
 "metadata": {
  "kernelspec": {
   "display_name": "Python 3",
   "language": "python",
   "name": "python3"
  },
  "language_info": {
   "codemirror_mode": {
    "name": "ipython",
    "version": 3
   },
   "file_extension": ".py",
   "mimetype": "text/x-python",
   "name": "python",
   "nbconvert_exporter": "python",
   "pygments_lexer": "ipython3",
   "version": "3.8.8"
  }
 },
 "nbformat": 4,
 "nbformat_minor": 5
}
